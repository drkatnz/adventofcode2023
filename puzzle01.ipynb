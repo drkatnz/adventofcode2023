{
 "cells": [
  {
   "cell_type": "markdown",
   "metadata": {},
   "source": [
    "--- Day 1: Trebuchet?! ---\n",
    "Something is wrong with global snow production, and you've been selected to take a look. The Elves have even given you a map; on it, they've used stars to mark the top fifty locations that are likely to be having problems.\n",
    "\n",
    "You've been doing this long enough to know that to restore snow operations, you need to check all fifty stars by December 25th.\n",
    "\n",
    "Collect stars by solving puzzles. Two puzzles will be made available on each day in the Advent calendar; the second puzzle is unlocked when you complete the first. Each puzzle grants one star. Good luck!\n",
    "\n",
    "You try to ask why they can't just use a weather machine (\"not powerful enough\") and where they're even sending you (\"the sky\") and why your map looks mostly blank (\"you sure ask a lot of questions\") and hang on did you just say the sky (\"of course, where do you think snow comes from\") when you realize that the Elves are already loading you into a trebuchet (\"please hold still, we need to strap you in\").\n",
    "\n",
    "As they're making the final adjustments, they discover that their calibration document (your puzzle input) has been amended by a very young Elf who was apparently just excited to show off her art skills. Consequently, the Elves are having trouble reading the values on the document.\n",
    "\n",
    "The newly-improved calibration document consists of lines of text; each line originally contained a specific calibration value that the Elves now need to recover. On each line, the calibration value can be found by combining the first digit and the last digit (in that order) to form a single two-digit number.\n",
    "\n",
    "For example:\n",
    "```\n",
    "1abc2\n",
    "pqr3stu8vwx\n",
    "a1b2c3d4e5f\n",
    "treb7uchet\n",
    "```\n",
    "\n",
    "\n",
    "In this example, the calibration values of these four lines are 12, 38, 15, and 77. Adding these together produces 142.\n",
    "\n",
    "Consider your entire calibration document. What is the sum of all of the calibration values?"
   ]
  },
  {
   "cell_type": "code",
   "execution_count": null,
   "metadata": {},
   "outputs": [],
   "source": [
    "example_input = \"\"\"1abc2\n",
    "pqr3stu8vwx\n",
    "a1b2c3d4e5f\n",
    "treb7uchet\n",
    "\"\"\""
   ]
  },
  {
   "cell_type": "code",
   "execution_count": null,
   "metadata": {},
   "outputs": [],
   "source": [
    "def sum_document(document):\n",
    "    sum = 0\n",
    "    for aline in document.split(\"\\n\"):\n",
    "        if len(aline) > 0: # ignore empty lines\n",
    "            # remove all the non-numbers\n",
    "            just_nums = [str(achar) for achar in aline if achar in '0123456789']\n",
    "            # get the first and last\n",
    "            first_last = str(just_nums[0]) + str(just_nums[-1])\n",
    "            # add them into the sum\n",
    "            sum += int(first_last)\n",
    "    return sum\n",
    "\n",
    "print(sum_document(\"test12\"))\n",
    "print(sum_document(example_input))"
   ]
  },
  {
   "cell_type": "code",
   "execution_count": null,
   "metadata": {},
   "outputs": [],
   "source": [
    "# read the input\n",
    "with open('input01.txt') as pfile:\n",
    "    puzzle_input = pfile.read()\n",
    "\n",
    "print(sum_document(puzzle_input))"
   ]
  },
  {
   "cell_type": "markdown",
   "metadata": {},
   "source": [
    "--- Part Two ---\n",
    "Your calculation isn't quite right. It looks like some of the digits are actually spelled out with letters: one, two, three, four, five, six, seven, eight, and nine also count as valid \"digits\".\n",
    "\n",
    "Equipped with this new information, you now need to find the real first and last digit on each line. For example:\n",
    "```\n",
    "two1nine\n",
    "eightwothree\n",
    "abcone2threexyz\n",
    "xtwone3four\n",
    "4nineeightseven2\n",
    "zoneight234\n",
    "7pqrstsixteen\n",
    "```\n",
    "\n",
    "In this example, the calibration values are 29, 83, 13, 24, 42, 14, and 76. Adding these together produces 281.\n",
    "\n",
    "What is the sum of all of the calibration values?"
   ]
  },
  {
   "cell_type": "code",
   "execution_count": null,
   "metadata": {},
   "outputs": [],
   "source": [
    "example_input2 = \"\"\"\n",
    "two1nine\n",
    "eightwothree\n",
    "abcone2threexyz\n",
    "xtwone3four\n",
    "4nineeightseven2\n",
    "zoneight234\n",
    "7pqrstsixteen\n",
    "\"\"\""
   ]
  },
  {
   "cell_type": "code",
   "execution_count": null,
   "metadata": {},
   "outputs": [],
   "source": [
    "lookup = {\n",
    "    'zero': 0,\n",
    "    'one': 1,\n",
    "    'two': 2,\n",
    "    'three': 3,\n",
    "    'four': 4,\n",
    "    'five': 5,\n",
    "    'six': 6,\n",
    "    'seven': 7,\n",
    "    'eight': 8,\n",
    "    'nine': 9 \n",
    "}\n",
    "\n",
    "\n",
    "def fix_line(line):\n",
    "    new_line = []\n",
    "    pos = 0\n",
    "    for step in range(len(line) + 1):\n",
    "        for k in range(step - pos):\n",
    "            # iterate by taking one character off at a time to see if there's a match\n",
    "            #print(\"step k pos text\", step, k, pos, line[pos + k:step])\n",
    "            # if it's a number, just add it to the string and continue\n",
    "            if line[pos + k:step] in '0123456789' and len(line[pos + k:step]) == 1:\n",
    "                new_line.append(line[pos + k:step])\n",
    "                pos = step\n",
    "                break\n",
    "            # if it's a word number, add the number to the string and continue\n",
    "            elif line[pos + k:step] in lookup:\n",
    "                new_line.append(str(lookup[line[pos + k:step]]))\n",
    "                pos = step - 1\n",
    "                break\n",
    "    #print(\"original, new\\t\\t\", line, ''.join(new_line))\n",
    "    return ''.join(new_line)\n",
    "            \n",
    "print(fix_line(\"two1nine\"))\n",
    "            \n",
    "def fix_document(document):\n",
    "    new_doc = '\\n'.join([fix_line(aline) for aline in document.split(\"\\n\")])\n",
    "    return new_doc\n",
    "\n",
    "print(fix_document(example_input2))\n",
    "\n",
    "def new_sum_document(document):\n",
    "    fixed_document = fix_document(document)\n",
    "    return sum_document(fixed_document)\n",
    "\n",
    "print(\"original\", new_sum_document(example_input))\n",
    "print(\"new\", new_sum_document(example_input2))\n"
   ]
  },
  {
   "cell_type": "code",
   "execution_count": null,
   "metadata": {},
   "outputs": [],
   "source": [
    "print(new_sum_document(puzzle_input))"
   ]
  },
  {
   "cell_type": "code",
   "execution_count": null,
   "metadata": {},
   "outputs": [],
   "source": []
  }
 ],
 "metadata": {
  "kernelspec": {
   "display_name": "Python 3",
   "language": "python",
   "name": "python3"
  },
  "language_info": {
   "codemirror_mode": {
    "name": "ipython",
    "version": 3
   },
   "file_extension": ".py",
   "mimetype": "text/x-python",
   "name": "python",
   "nbconvert_exporter": "python",
   "pygments_lexer": "ipython3",
   "version": "3.12.0"
  }
 },
 "nbformat": 4,
 "nbformat_minor": 2
}
